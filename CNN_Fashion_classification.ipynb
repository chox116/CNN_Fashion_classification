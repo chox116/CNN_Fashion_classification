{
  "cells": [
    {
      "cell_type": "markdown",
      "id": "6e2b512a",
      "metadata": {
        "id": "6e2b512a"
      },
      "source": [
        "# Fashion MNIST"
      ]
    },
    {
      "cell_type": "markdown",
      "source": [
        "**Pérez Angeles Adrián **"
      ],
      "metadata": {
        "id": "TwBb0TQ8MQNI"
      },
      "id": "TwBb0TQ8MQNI"
    },
    {
      "cell_type": "markdown",
      "source": [
        "El objetivo de este proyecto es clasificar distintas prendas a partir de la base de datos de keras https://keras.io/api/datasets/fashion_mnist/ (Fashion MNIST) utilizando one-hot encoding.\n",
        "Se implemento una red neuronal de convolución con 6 filtros con un flaten y varias capas densas en cada una de estas se vario el dropout.\n",
        "\n",
        "Se manejaron 70,000 imagenes de las cuales 10,000 son para test y 70,000 son para entrenamiento divididos en las siguientes etiquetas \n",
        "0.-\tT-shirt/top\n",
        "1.-\tTrouser\n",
        "2.-\tPullover\n",
        "3.-\tDress\n",
        "4.-\tCoat\n",
        "5.-\tSandal\n",
        "6.-\tShirt\n",
        "7.-\tSneaker\n",
        "8.-\tBag\n",
        "9.-\tAnkle boot\n",
        "\n",
        "Se obtuvo que para los datos de test:\n",
        "Loss = 0.33\n",
        "Accuracy = 0.88\n",
        "\n",
        "Parte de la consecuencia de esta presición es debida a que la maquina no pudo distinguir en su mayoria de T-shirt/top y Shirt"
      ],
      "metadata": {
        "id": "TI2m9JNWQ3_Q"
      },
      "id": "TI2m9JNWQ3_Q"
    },
    {
      "cell_type": "markdown",
      "source": [
        "Importamos librerias"
      ],
      "metadata": {
        "id": "s70ch1i4Mc6x"
      },
      "id": "s70ch1i4Mc6x"
    },
    {
      "cell_type": "code",
      "execution_count": null,
      "id": "a4db533a",
      "metadata": {
        "id": "a4db533a"
      },
      "outputs": [],
      "source": [
        "import keras\n",
        "from keras import layers\n",
        "from keras.layers import Input, Dense, Activation, Flatten\n",
        "from keras.layers import Dropout\n",
        "from keras.models import Model\n",
        "from keras.preprocessing import image\n",
        "from keras.utils import layer_utils\n",
        "from keras.utils.data_utils import get_file\n",
        "from keras.applications.imagenet_utils import preprocess_input\n",
        "import pydot\n",
        "from IPython.display import SVG\n",
        "#from keras.utils.vis_utils import model_to_dot\n",
        "from tensorflow.keras.utils import plot_model\n",
        "#from keras.utils import plot_model\n",
        "#from keras.optimizers import SGD\n",
        "from tensorflow.keras.optimizers import SGD\n",
        "import keras.backend as K\n",
        "from keras.layers import BatchNormalization                       \n",
        "from keras.layers import Conv2D, MaxPooling2D\n",
        "from keras.layers import Conv1D, MaxPooling1D\n",
        "from keras.models import Sequential\n",
        "import time\n",
        "import matplotlib.pyplot as plt\n",
        "from matplotlib.pyplot import imshow\n",
        "import tensorflow as tf\n",
        "\n",
        "import pickle\n",
        "import gzip\n",
        "import numpy as np\n",
        "\n",
        "np.random.seed(1)\n",
        "%matplotlib inline"
      ]
    },
    {
      "cell_type": "markdown",
      "id": "731e17b9",
      "metadata": {
        "id": "731e17b9"
      },
      "source": [
        "### Descargamos los datos de fashion MNIST de KERAS y asignamos los valores de train y test"
      ]
    },
    {
      "cell_type": "code",
      "execution_count": null,
      "id": "c760a83a",
      "metadata": {
        "id": "c760a83a",
        "colab": {
          "base_uri": "https://localhost:8080/"
        },
        "outputId": "6db785b6-a0ef-4b4d-d15a-4cbf705cfae4"
      },
      "outputs": [
        {
          "output_type": "stream",
          "name": "stdout",
          "text": [
            "Downloading data from https://storage.googleapis.com/tensorflow/tf-keras-datasets/train-labels-idx1-ubyte.gz\n",
            "32768/29515 [=================================] - 0s 0us/step\n",
            "40960/29515 [=========================================] - 0s 0us/step\n",
            "Downloading data from https://storage.googleapis.com/tensorflow/tf-keras-datasets/train-images-idx3-ubyte.gz\n",
            "26427392/26421880 [==============================] - 0s 0us/step\n",
            "26435584/26421880 [==============================] - 0s 0us/step\n",
            "Downloading data from https://storage.googleapis.com/tensorflow/tf-keras-datasets/t10k-labels-idx1-ubyte.gz\n",
            "16384/5148 [===============================================================================================] - 0s 0us/step\n",
            "Downloading data from https://storage.googleapis.com/tensorflow/tf-keras-datasets/t10k-images-idx3-ubyte.gz\n",
            "4423680/4422102 [==============================] - 0s 0us/step\n",
            "4431872/4422102 [==============================] - 0s 0us/step\n"
          ]
        }
      ],
      "source": [
        "(x_train, y_train), (x_test, y_test) = tf.keras.datasets.fashion_mnist.load_data()"
      ]
    },
    {
      "cell_type": "code",
      "execution_count": null,
      "id": "57e2d3df",
      "metadata": {
        "colab": {
          "base_uri": "https://localhost:8080/"
        },
        "id": "57e2d3df",
        "outputId": "793bf2ae-9f5d-4ab3-e372-a8e69b4a54c9"
      },
      "outputs": [
        {
          "output_type": "execute_result",
          "data": {
            "text/plain": [
              "array([[  0,   0,   0,   0,   0,   0,   0,   0,   0,   0,   0,   0,   0,\n",
              "          0,   0,   0,   0,   0,   0,   0,   0,   0,   0,   0,   0,   0,\n",
              "          0,   0],\n",
              "       [  0,   0,   0,   0,   0,   0,   0,   0,   0,   0,   0,   0,   0,\n",
              "          0,   0,   0,   0,   0,   0,   0,   0,   0,   0,   0,   0,   0,\n",
              "          0,   0],\n",
              "       [  0,   0,   0,   0,   0,   0,   0,   0,   0,   0,   0,   0,   0,\n",
              "          0,   0,   0,   0,   0,   0,   0,   0,   0,   0,   0,   0,   0,\n",
              "          0,   0],\n",
              "       [  0,   0,   0,   0,   0,   0,   0,   0,   0,   0,   0,   0,   1,\n",
              "          0,   0,  13,  73,   0,   0,   1,   4,   0,   0,   0,   0,   1,\n",
              "          1,   0],\n",
              "       [  0,   0,   0,   0,   0,   0,   0,   0,   0,   0,   0,   0,   3,\n",
              "          0,  36, 136, 127,  62,  54,   0,   0,   0,   1,   3,   4,   0,\n",
              "          0,   3],\n",
              "       [  0,   0,   0,   0,   0,   0,   0,   0,   0,   0,   0,   0,   6,\n",
              "          0, 102, 204, 176, 134, 144, 123,  23,   0,   0,   0,   0,  12,\n",
              "         10,   0],\n",
              "       [  0,   0,   0,   0,   0,   0,   0,   0,   0,   0,   0,   0,   0,\n",
              "          0, 155, 236, 207, 178, 107, 156, 161, 109,  64,  23,  77, 130,\n",
              "         72,  15],\n",
              "       [  0,   0,   0,   0,   0,   0,   0,   0,   0,   0,   0,   1,   0,\n",
              "         69, 207, 223, 218, 216, 216, 163, 127, 121, 122, 146, 141,  88,\n",
              "        172,  66],\n",
              "       [  0,   0,   0,   0,   0,   0,   0,   0,   0,   1,   1,   1,   0,\n",
              "        200, 232, 232, 233, 229, 223, 223, 215, 213, 164, 127, 123, 196,\n",
              "        229,   0],\n",
              "       [  0,   0,   0,   0,   0,   0,   0,   0,   0,   0,   0,   0,   0,\n",
              "        183, 225, 216, 223, 228, 235, 227, 224, 222, 224, 221, 223, 245,\n",
              "        173,   0],\n",
              "       [  0,   0,   0,   0,   0,   0,   0,   0,   0,   0,   0,   0,   0,\n",
              "        193, 228, 218, 213, 198, 180, 212, 210, 211, 213, 223, 220, 243,\n",
              "        202,   0],\n",
              "       [  0,   0,   0,   0,   0,   0,   0,   0,   0,   1,   3,   0,  12,\n",
              "        219, 220, 212, 218, 192, 169, 227, 208, 218, 224, 212, 226, 197,\n",
              "        209,  52],\n",
              "       [  0,   0,   0,   0,   0,   0,   0,   0,   0,   0,   6,   0,  99,\n",
              "        244, 222, 220, 218, 203, 198, 221, 215, 213, 222, 220, 245, 119,\n",
              "        167,  56],\n",
              "       [  0,   0,   0,   0,   0,   0,   0,   0,   0,   4,   0,   0,  55,\n",
              "        236, 228, 230, 228, 240, 232, 213, 218, 223, 234, 217, 217, 209,\n",
              "         92,   0],\n",
              "       [  0,   0,   1,   4,   6,   7,   2,   0,   0,   0,   0,   0, 237,\n",
              "        226, 217, 223, 222, 219, 222, 221, 216, 223, 229, 215, 218, 255,\n",
              "         77,   0],\n",
              "       [  0,   3,   0,   0,   0,   0,   0,   0,   0,  62, 145, 204, 228,\n",
              "        207, 213, 221, 218, 208, 211, 218, 224, 223, 219, 215, 224, 244,\n",
              "        159,   0],\n",
              "       [  0,   0,   0,   0,  18,  44,  82, 107, 189, 228, 220, 222, 217,\n",
              "        226, 200, 205, 211, 230, 224, 234, 176, 188, 250, 248, 233, 238,\n",
              "        215,   0],\n",
              "       [  0,  57, 187, 208, 224, 221, 224, 208, 204, 214, 208, 209, 200,\n",
              "        159, 245, 193, 206, 223, 255, 255, 221, 234, 221, 211, 220, 232,\n",
              "        246,   0],\n",
              "       [  3, 202, 228, 224, 221, 211, 211, 214, 205, 205, 205, 220, 240,\n",
              "         80, 150, 255, 229, 221, 188, 154, 191, 210, 204, 209, 222, 228,\n",
              "        225,   0],\n",
              "       [ 98, 233, 198, 210, 222, 229, 229, 234, 249, 220, 194, 215, 217,\n",
              "        241,  65,  73, 106, 117, 168, 219, 221, 215, 217, 223, 223, 224,\n",
              "        229,  29],\n",
              "       [ 75, 204, 212, 204, 193, 205, 211, 225, 216, 185, 197, 206, 198,\n",
              "        213, 240, 195, 227, 245, 239, 223, 218, 212, 209, 222, 220, 221,\n",
              "        230,  67],\n",
              "       [ 48, 203, 183, 194, 213, 197, 185, 190, 194, 192, 202, 214, 219,\n",
              "        221, 220, 236, 225, 216, 199, 206, 186, 181, 177, 172, 181, 205,\n",
              "        206, 115],\n",
              "       [  0, 122, 219, 193, 179, 171, 183, 196, 204, 210, 213, 207, 211,\n",
              "        210, 200, 196, 194, 191, 195, 191, 198, 192, 176, 156, 167, 177,\n",
              "        210,  92],\n",
              "       [  0,   0,  74, 189, 212, 191, 175, 172, 175, 181, 185, 188, 189,\n",
              "        188, 193, 198, 204, 209, 210, 210, 211, 188, 188, 194, 192, 216,\n",
              "        170,   0],\n",
              "       [  2,   0,   0,   0,  66, 200, 222, 237, 239, 242, 246, 243, 244,\n",
              "        221, 220, 193, 191, 179, 182, 182, 181, 176, 166, 168,  99,  58,\n",
              "          0,   0],\n",
              "       [  0,   0,   0,   0,   0,   0,   0,  40,  61,  44,  72,  41,  35,\n",
              "          0,   0,   0,   0,   0,   0,   0,   0,   0,   0,   0,   0,   0,\n",
              "          0,   0],\n",
              "       [  0,   0,   0,   0,   0,   0,   0,   0,   0,   0,   0,   0,   0,\n",
              "          0,   0,   0,   0,   0,   0,   0,   0,   0,   0,   0,   0,   0,\n",
              "          0,   0],\n",
              "       [  0,   0,   0,   0,   0,   0,   0,   0,   0,   0,   0,   0,   0,\n",
              "          0,   0,   0,   0,   0,   0,   0,   0,   0,   0,   0,   0,   0,\n",
              "          0,   0]], dtype=uint8)"
            ]
          },
          "metadata": {},
          "execution_count": 3
        }
      ],
      "source": [
        "x_train[0]"
      ]
    },
    {
      "cell_type": "markdown",
      "id": "6cd0fd88",
      "metadata": {
        "id": "6cd0fd88"
      },
      "source": [
        "### Observamos que los datos no están normalizados. Normalizamos los datos"
      ]
    },
    {
      "cell_type": "code",
      "execution_count": null,
      "id": "a1a30e46",
      "metadata": {
        "id": "a1a30e46"
      },
      "outputs": [],
      "source": [
        "train_x = x_train.astype(\"float32\") / 255\n",
        "test_x = x_test.astype(\"float32\") / 255"
      ]
    },
    {
      "cell_type": "code",
      "execution_count": null,
      "id": "b63835e1",
      "metadata": {
        "colab": {
          "base_uri": "https://localhost:8080/"
        },
        "id": "b63835e1",
        "outputId": "a0cc500c-24f8-42d7-c1b3-ff7979094f7b"
      },
      "outputs": [
        {
          "output_type": "execute_result",
          "data": {
            "text/plain": [
              "1.0"
            ]
          },
          "metadata": {},
          "execution_count": 5
        }
      ],
      "source": [
        "np.amax(train_x)\n",
        "np.amax(test_x)"
      ]
    },
    {
      "cell_type": "code",
      "execution_count": null,
      "id": "f3ead3ed",
      "metadata": {
        "id": "f3ead3ed"
      },
      "outputs": [],
      "source": [
        "x_train = np.expand_dims(x_train, -1) #buscamos que tenga la dimensión (28,28,1)\n",
        "x_test = np.expand_dims(x_test, -1)\n",
        "learn_samples=(x_train, y_train)\n",
        "test_samples=(x_test,y_test)"
      ]
    },
    {
      "cell_type": "markdown",
      "id": "c77b8a03",
      "metadata": {
        "id": "c77b8a03"
      },
      "source": [
        "### Observamos el tipo,longitud y forma de los datos"
      ]
    },
    {
      "cell_type": "code",
      "execution_count": null,
      "id": "9e0d1bd1",
      "metadata": {
        "colab": {
          "base_uri": "https://localhost:8080/"
        },
        "id": "9e0d1bd1",
        "outputId": "b3cf8888-27d4-4155-aca1-228223fbf1cf"
      },
      "outputs": [
        {
          "output_type": "stream",
          "name": "stdout",
          "text": [
            "El tipo de train_samples es:  <class 'tuple'> con longitud:  2\n",
            "El tipo de test_data:  <class 'tuple'> con longitud:  2\n"
          ]
        }
      ],
      "source": [
        "print(\"El tipo de train_samples es: \", type(learn_samples), \"con longitud: \", len(learn_samples) )\n",
        "print(\"El tipo de test_data: \", type(test_samples), \"con longitud: \", len(test_samples) )"
      ]
    },
    {
      "cell_type": "code",
      "execution_count": null,
      "id": "c874113e",
      "metadata": {
        "colab": {
          "base_uri": "https://localhost:8080/"
        },
        "id": "c874113e",
        "outputId": "ef4b0d7f-1d31-4b7e-c320-23c4daf8967c"
      },
      "outputs": [
        {
          "output_type": "stream",
          "name": "stdout",
          "text": [
            "Shape of the first element of the train_data tuple:  (60000, 28, 28, 1)\n",
            "Shape of the second element of the train_data tuple:  (60000,)\n",
            "Shape of the first element of the test_data tuple:  (10000, 28, 28, 1)\n",
            "Shape of the second element of the test_data tuple:  (10000,)\n"
          ]
        }
      ],
      "source": [
        "print(\"Shape of the first element of the train_data tuple: \", learn_samples[0].shape)\n",
        "print(\"Shape of the second element of the train_data tuple: \", learn_samples[1].shape)\n",
        "print(\"Shape of the first element of the test_data tuple: \", test_samples[0].shape)\n",
        "print(\"Shape of the second element of the test_data tuple: \", test_samples[1].shape)"
      ]
    },
    {
      "cell_type": "code",
      "execution_count": null,
      "id": "1410e4fa",
      "metadata": {
        "id": "1410e4fa"
      },
      "outputs": [],
      "source": [
        "dic = {0: '\tT-shirt/top', 1: 'Trouser', 2: 'Pullover', 3: 'Dress', 4: 'Coat', \n",
        "       5: 'Sandal', 6: 'Shirt', 7:'Sneaker', 8: 'Bag', 9: 'Ankle boot'}"
      ]
    },
    {
      "cell_type": "markdown",
      "id": "610a14b1",
      "metadata": {
        "id": "610a14b1"
      },
      "source": [
        "### Observando una muestra en imagen y en su arreglo"
      ]
    },
    {
      "cell_type": "code",
      "execution_count": null,
      "id": "aab81087",
      "metadata": {
        "colab": {
          "base_uri": "https://localhost:8080/",
          "height": 317
        },
        "id": "aab81087",
        "outputId": "6c52986b-362e-4e88-f3e4-378e250e76ae"
      },
      "outputs": [
        {
          "output_type": "stream",
          "name": "stdout",
          "text": [
            "\n",
            "The y value of the first training sample is 7\n",
            "It correspons to a Sneaker\n"
          ]
        },
        {
          "output_type": "display_data",
          "data": {
            "image/png": "[encoded data removed]",
            "text/plain": [
              "<Figure size 432x288 with 1 Axes>"
            ]
          },
          "metadata": {
            "needs_background": "light"
          }
        }
      ],
      "source": [
        "index = 3500\n",
        "\n",
        "plt.imshow(train_x[index]);\n",
        "\n",
        "print(\"\\nThe y value of the first training sample is\",np.squeeze(y_train[index]))\n",
        "print(\"It correspons to a\", dic[int(np.squeeze(y_train[index]))])"
      ]
    },
    {
      "cell_type": "code",
      "execution_count": null,
      "id": "62810950",
      "metadata": {
        "colab": {
          "base_uri": "https://localhost:8080/"
        },
        "id": "62810950",
        "outputId": "48e76d36-0581-42ac-baff-ddeb015ef090"
      },
      "outputs": [
        {
          "output_type": "execute_result",
          "data": {
            "text/plain": [
              "array([9, 0, 0, ..., 3, 0, 5], dtype=uint8)"
            ]
          },
          "metadata": {},
          "execution_count": 11
        }
      ],
      "source": [
        "learn_samples[1][::]"
      ]
    },
    {
      "cell_type": "markdown",
      "id": "9700d58b",
      "metadata": {
        "id": "9700d58b"
      },
      "source": [
        "### Pasamos los datos de ouput(y_train, y_test) a one-hot enncoding"
      ]
    },
    {
      "cell_type": "code",
      "execution_count": null,
      "id": "5754005f",
      "metadata": {
        "colab": {
          "base_uri": "https://localhost:8080/"
        },
        "id": "5754005f",
        "outputId": "f463e92d-c069-4d9a-a249-b8a25c00344d"
      },
      "outputs": [
        {
          "output_type": "execute_result",
          "data": {
            "text/plain": [
              "(60000,)"
            ]
          },
          "metadata": {},
          "execution_count": 12
        }
      ],
      "source": [
        "y_train.shape"
      ]
    },
    {
      "cell_type": "code",
      "execution_count": null,
      "id": "0546bbce",
      "metadata": {
        "colab": {
          "base_uri": "https://localhost:8080/"
        },
        "id": "0546bbce",
        "outputId": "e21be9cc-c0fc-4787-b0ff-a2fc11ca1cdb"
      },
      "outputs": [
        {
          "output_type": "execute_result",
          "data": {
            "text/plain": [
              "array([9, 0, 0, ..., 3, 0, 5], dtype=uint8)"
            ]
          },
          "metadata": {},
          "execution_count": 13
        }
      ],
      "source": [
        "y_train.reshape(-1)"
      ]
    },
    {
      "cell_type": "code",
      "execution_count": null,
      "id": "154fd52f",
      "metadata": {
        "colab": {
          "base_uri": "https://localhost:8080/"
        },
        "id": "154fd52f",
        "outputId": "50870195-86b5-4f83-eb31-c67897e0072d"
      },
      "outputs": [
        {
          "output_type": "execute_result",
          "data": {
            "text/plain": [
              "array([[1., 0., 0., 0., 0., 0., 0., 0., 0., 0.],\n",
              "       [0., 1., 0., 0., 0., 0., 0., 0., 0., 0.],\n",
              "       [0., 0., 1., 0., 0., 0., 0., 0., 0., 0.],\n",
              "       [0., 0., 0., 1., 0., 0., 0., 0., 0., 0.],\n",
              "       [0., 0., 0., 0., 1., 0., 0., 0., 0., 0.],\n",
              "       [0., 0., 0., 0., 0., 1., 0., 0., 0., 0.],\n",
              "       [0., 0., 0., 0., 0., 0., 1., 0., 0., 0.],\n",
              "       [0., 0., 0., 0., 0., 0., 0., 1., 0., 0.],\n",
              "       [0., 0., 0., 0., 0., 0., 0., 0., 1., 0.],\n",
              "       [0., 0., 0., 0., 0., 0., 0., 0., 0., 1.]])"
            ]
          },
          "metadata": {},
          "execution_count": 14
        }
      ],
      "source": [
        "I=np.eye(10)\n",
        "I"
      ]
    },
    {
      "cell_type": "code",
      "execution_count": null,
      "id": "17b89a8a",
      "metadata": {
        "id": "17b89a8a"
      },
      "outputs": [],
      "source": [
        "train_y = np.eye(10)[y_train.reshape(-1)]\n",
        "test_y = np.eye(10)[y_test.reshape(-1)]"
      ]
    },
    {
      "cell_type": "code",
      "execution_count": null,
      "id": "dd968471",
      "metadata": {
        "colab": {
          "base_uri": "https://localhost:8080/"
        },
        "id": "dd968471",
        "outputId": "8ac48b3d-8447-4b9b-ec94-4c7fcd892084"
      },
      "outputs": [
        {
          "output_type": "execute_result",
          "data": {
            "text/plain": [
              "array([[0., 0., 0., 0., 0., 0., 0., 0., 0., 1.],\n",
              "       [1., 0., 0., 0., 0., 0., 0., 0., 0., 0.],\n",
              "       [1., 0., 0., 0., 0., 0., 0., 0., 0., 0.],\n",
              "       [0., 0., 0., 1., 0., 0., 0., 0., 0., 0.],\n",
              "       [1., 0., 0., 0., 0., 0., 0., 0., 0., 0.]])"
            ]
          },
          "metadata": {},
          "execution_count": 16
        }
      ],
      "source": [
        "train_y[0:5]"
      ]
    },
    {
      "cell_type": "code",
      "execution_count": null,
      "id": "4bb6090d",
      "metadata": {
        "colab": {
          "base_uri": "https://localhost:8080/",
          "height": 300
        },
        "id": "4bb6090d",
        "outputId": "2195a32d-6863-495f-b578-187191661f18"
      },
      "outputs": [
        {
          "output_type": "stream",
          "name": "stdout",
          "text": [
            "The sample 9 corresponds to a Sandal\n",
            "Its one-hot representation is = [0. 0. 0. 0. 0. 1. 0. 0. 0. 0.]\n"
          ]
        },
        {
          "output_type": "display_data",
          "data": {
            "image/png": "[encoded data removed]",
            "text/plain": [
              "<Figure size 432x288 with 1 Axes>"
            ]
          },
          "metadata": {
            "needs_background": "light"
          }
        }
      ],
      "source": [
        "sample = 9\n",
        "\n",
        "plt.imshow(train_x[sample]);\n",
        "\n",
        "print('The sample', sample, 'corresponds to a', dic[int(np.argmax(train_y[sample]))])\n",
        "print(\"Its one-hot representation is =\", train_y[sample])"
      ]
    },
    {
      "cell_type": "code",
      "execution_count": null,
      "id": "1dbf0c15",
      "metadata": {
        "colab": {
          "base_uri": "https://localhost:8080/"
        },
        "id": "1dbf0c15",
        "outputId": "45f485a3-f194-42c2-cb1d-52f56eb45b9c"
      },
      "outputs": [
        {
          "output_type": "stream",
          "name": "stdout",
          "text": [
            "la dimension de train_x es: (60000, 28, 28, 1) la dimensión de train_y es:  (60000,) \n",
            "\n",
            "la dimension de test_x es: (10000, 28, 28, 1) la dimensión de test_y es:  (10000,) \n",
            "\n"
          ]
        }
      ],
      "source": [
        "# Escribe el codigo aquí\n",
        "print(\"la dimension de train_x es:\", x_train.shape, \"la dimensión de train_y es: \", y_train.shape,\"\\n\")\n",
        "print(\"la dimension de test_x es:\", x_test.shape, \"la dimensión de test_y es: \", y_test.shape,\"\\n\")"
      ]
    },
    {
      "cell_type": "markdown",
      "id": "44d9b20d",
      "metadata": {
        "id": "44d9b20d"
      },
      "source": [
        "### Implementando una red neuronal de convolución "
      ]
    },
    {
      "cell_type": "raw",
      "id": "41c34a0a",
      "metadata": {
        "id": "41c34a0a"
      },
      "source": [
        "def architecture(input_shape, num_classes, activation, dropout=False, batch_normalization=False):\n",
        "    \n",
        "    model = Sequential()\n",
        "    \n",
        "    model.add(Conv2D(12, 3, padding='same', input_shape=input_shape))\n",
        "    model.add(Activation(activation))    \n",
        "    if batch_normalization: \n",
        "        model.add(BatchNormalization())  # Performing batch normalization to the output of the input layer\n",
        "\n",
        "    model.add(Conv2D(12, 3, padding='same', input_shape=input_shape))\n",
        "    model.add(Activation(activation))    \n",
        "    if batch_normalization: \n",
        "        model.add(BatchNormalization())  # Performing batch normalization to the output of the input layer\n",
        "\n",
        "    model.add(MaxPooling2D()) \n",
        "               \n",
        "    model.add(Conv2D(12, 3, padding='same', input_shape=input_shape))\n",
        "    model.add(Activation(activation))    \n",
        "    if batch_normalization: \n",
        "        model.add(BatchNormalization())  # Performing batch normalization to the output of the input layer\n",
        "\n",
        "    model.add(Conv2D(12, 3, padding='same', input_shape=input_shape))\n",
        "    model.add(Activation(activation))    \n",
        "    if batch_normalization: \n",
        "        model.add(BatchNormalization())  # Performing batch normalization to the output of the input layer\n",
        "\n",
        "    model.add(MaxPooling2D()) \n",
        "    \n",
        "    \n",
        "    model.add(Flatten())\n",
        "    if dropout:\n",
        "        model.add(Dropout(0.30))\n",
        "    \n",
        "    model.add(Dense(50, kernel_initializer='he_uniform',bias_initializer='zeros'))\n",
        "    model.add(Activation(activation))    \n",
        "    if batch_normalization:\n",
        "        model.add(BatchNormalization())  \n",
        "    if dropout:\n",
        "        model.add(Dropout(0.30))\n",
        "    \n",
        "    model.add(Dense(50, kernel_initializer='he_uniform',bias_initializer='zeros'))\n",
        "    model.add(Activation(activation))    \n",
        "    if batch_normalization:\n",
        "        model.add(BatchNormalization())      \n",
        "    if dropout:\n",
        "        model.add(Dropout(0.30))\n",
        "    \n",
        "    model.add(Dense(num_classes))\n",
        "    model.add(Activation('softmax',name='CNN_Cifar10Model'))\n",
        "    \n",
        "    return model\n"
      ]
    },
    {
      "cell_type": "code",
      "execution_count": null,
      "id": "632b9186",
      "metadata": {
        "id": "632b9186"
      },
      "outputs": [],
      "source": [
        "def architecture(input_shape, num_classes, activation, dropout=False, batch_normalization=False):\n",
        "    \n",
        "    model = Sequential()\n",
        "    \n",
        "    model.add(Conv2D(6, 3, padding='same', input_shape=input_shape))\n",
        "    model.add(Activation(activation))    \n",
        "    if batch_normalization: \n",
        "        model.add(BatchNormalization())  # Performing batch normalization to the output of the input layer\n",
        "               \n",
        "    \n",
        "    model.add(Flatten())\n",
        "    if dropout:\n",
        "        model.add(Dropout(0.30))\n",
        "    \n",
        "    model.add(Dense(50, kernel_initializer='he_uniform',bias_initializer='zeros'))\n",
        "    model.add(Activation(activation))    \n",
        "    if batch_normalization:\n",
        "        model.add(BatchNormalization())  \n",
        "    if dropout:\n",
        "        model.add(Dropout(0.40))\n",
        "    \n",
        "    model.add(Dense(50, kernel_initializer='he_uniform',bias_initializer='zeros'))\n",
        "    model.add(Activation(activation))    \n",
        "    if batch_normalization:\n",
        "        model.add(BatchNormalization())      \n",
        "    if dropout:\n",
        "        model.add(Dropout(0.50))\n",
        "    \n",
        "    model.add(Dense(num_classes))\n",
        "    model.add(Activation('softmax',name='CNN_MnistModel-000'))\n",
        "    \n",
        "    return model\n"
      ]
    },
    {
      "cell_type": "code",
      "execution_count": null,
      "id": "33f34c2d",
      "metadata": {
        "id": "33f34c2d"
      },
      "outputs": [],
      "source": [
        "one_image = (28, 28,1)\n",
        "activation='sigmoid'\n",
        "num_classes=10\n",
        "dropout=True\n",
        "batch_normalization=True\n",
        "\n",
        "Fmnist_model = architecture(one_image,num_classes,activation,dropout,batch_normalization)"
      ]
    },
    {
      "cell_type": "code",
      "execution_count": null,
      "id": "66cca646",
      "metadata": {
        "colab": {
          "base_uri": "https://localhost:8080/",
          "height": 1000
        },
        "id": "66cca646",
        "outputId": "374404ab-6d1b-4487-9aa6-0d982bf0c4e9"
      },
      "outputs": [
        {
          "output_type": "execute_result",
          "data": {
            "image/png": "[encoded data removed]",
            "text/plain": [
              "<IPython.core.display.Image object>"
            ]
          },
          "metadata": {},
          "execution_count": 58
        }
      ],
      "source": [
        "plot_model(Fmnist_model, to_file='FF_mnist_model.png', show_shapes=True, show_layer_names=True)"
      ]
    },
    {
      "cell_type": "code",
      "execution_count": null,
      "id": "535ef66e",
      "metadata": {
        "colab": {
          "base_uri": "https://localhost:8080/"
        },
        "id": "535ef66e",
        "outputId": "833acaab-34e0-462b-b918-ba116669e6e8"
      },
      "outputs": [
        {
          "output_type": "stream",
          "name": "stdout",
          "text": [
            "Model: \"sequential_3\"\n",
            "_________________________________________________________________\n",
            " Layer (type)                Output Shape              Param #   \n",
            "=================================================================\n",
            " conv2d_3 (Conv2D)           (None, 28, 28, 6)         60        \n",
            "                                                                 \n",
            " activation_9 (Activation)   (None, 28, 28, 6)         0         \n",
            "                                                                 \n",
            " batch_normalization_9 (Batc  (None, 28, 28, 6)        24        \n",
            " hNormalization)                                                 \n",
            "                                                                 \n",
            " flatten_3 (Flatten)         (None, 4704)              0         \n",
            "                                                                 \n",
            " dropout_9 (Dropout)         (None, 4704)              0         \n",
            "                                                                 \n",
            " dense_9 (Dense)             (None, 50)                235250    \n",
            "                                                                 \n",
            " activation_10 (Activation)  (None, 50)                0         \n",
            "                                                                 \n",
            " batch_normalization_10 (Bat  (None, 50)               200       \n",
            " chNormalization)                                                \n",
            "                                                                 \n",
            " dropout_10 (Dropout)        (None, 50)                0         \n",
            "                                                                 \n",
            " dense_10 (Dense)            (None, 50)                2550      \n",
            "                                                                 \n",
            " activation_11 (Activation)  (None, 50)                0         \n",
            "                                                                 \n",
            " batch_normalization_11 (Bat  (None, 50)               200       \n",
            " chNormalization)                                                \n",
            "                                                                 \n",
            " dropout_11 (Dropout)        (None, 50)                0         \n",
            "                                                                 \n",
            " dense_11 (Dense)            (None, 10)                510       \n",
            "                                                                 \n",
            " CNN_MnistModel-000 (Activat  (None, 10)               0         \n",
            " ion)                                                            \n",
            "                                                                 \n",
            "=================================================================\n",
            "Total params: 238,794\n",
            "Trainable params: 238,582\n",
            "Non-trainable params: 212\n",
            "_________________________________________________________________\n"
          ]
        }
      ],
      "source": [
        "Fmnist_model.summary()"
      ]
    },
    {
      "cell_type": "code",
      "execution_count": null,
      "id": "b9ed2f60",
      "metadata": {
        "id": "b9ed2f60"
      },
      "outputs": [],
      "source": [
        "learning_rate = 0.1\n",
        "\n",
        "optimizer = tf.keras.optimizers.SGD(learning_rate=learning_rate, momentum=0.0, nesterov=False)\n",
        "loss_function ='categorical_crossentropy'\n",
        "metric_function = 'accuracy'\n",
        "\n",
        "Fmnist_model.compile(optimizer = optimizer, loss = loss_function, metrics = [metric_function])"
      ]
    },
    {
      "cell_type": "code",
      "execution_count": null,
      "id": "05c51b0a",
      "metadata": {
        "id": "05c51b0a"
      },
      "outputs": [],
      "source": [
        "#10 % of the training data will be used to validate the training\n",
        "start_time = time.time()\n",
        "\n",
        "validation_portion = 0.2 #sera el conjunto de validación "
      ]
    },
    {
      "cell_type": "code",
      "execution_count": null,
      "id": "90f09a26",
      "metadata": {
        "colab": {
          "base_uri": "https://localhost:8080/"
        },
        "id": "90f09a26",
        "outputId": "dfbe9870-3a25-4df0-831b-9bce8a311cd9"
      },
      "outputs": [
        {
          "output_type": "stream",
          "name": "stdout",
          "text": [
            "Epoch 1/100\n",
            "480/480 [==============================] - 3s 5ms/step - loss: 0.7429 - accuracy: 0.7484 - val_loss: 0.4842 - val_accuracy: 0.8251\n",
            "Epoch 2/100\n",
            "480/480 [==============================] - 2s 5ms/step - loss: 0.5673 - accuracy: 0.8079 - val_loss: 0.4308 - val_accuracy: 0.8460\n",
            "Epoch 3/100\n",
            "480/480 [==============================] - 2s 5ms/step - loss: 0.5281 - accuracy: 0.8205 - val_loss: 0.4203 - val_accuracy: 0.8505\n",
            "Epoch 4/100\n",
            "480/480 [==============================] - 2s 4ms/step - loss: 0.5074 - accuracy: 0.8284 - val_loss: 0.4028 - val_accuracy: 0.8588\n",
            "Epoch 5/100\n",
            "480/480 [==============================] - 2s 4ms/step - loss: 0.4873 - accuracy: 0.8352 - val_loss: 0.3896 - val_accuracy: 0.8604\n",
            "Epoch 6/100\n",
            "480/480 [==============================] - 2s 4ms/step - loss: 0.4719 - accuracy: 0.8400 - val_loss: 0.3860 - val_accuracy: 0.8621\n",
            "Epoch 7/100\n",
            "480/480 [==============================] - 2s 5ms/step - loss: 0.4631 - accuracy: 0.8419 - val_loss: 0.3729 - val_accuracy: 0.8656\n",
            "Epoch 8/100\n",
            "480/480 [==============================] - 2s 4ms/step - loss: 0.4489 - accuracy: 0.8461 - val_loss: 0.3639 - val_accuracy: 0.8700\n",
            "Epoch 9/100\n",
            "480/480 [==============================] - 2s 5ms/step - loss: 0.4384 - accuracy: 0.8501 - val_loss: 0.3725 - val_accuracy: 0.8656\n",
            "Epoch 10/100\n",
            "480/480 [==============================] - 2s 5ms/step - loss: 0.4340 - accuracy: 0.8532 - val_loss: 0.3613 - val_accuracy: 0.8721\n",
            "Epoch 11/100\n",
            "480/480 [==============================] - 2s 5ms/step - loss: 0.4229 - accuracy: 0.8558 - val_loss: 0.3578 - val_accuracy: 0.8740\n",
            "Epoch 12/100\n",
            "480/480 [==============================] - 2s 5ms/step - loss: 0.4143 - accuracy: 0.8589 - val_loss: 0.3657 - val_accuracy: 0.8723\n",
            "Epoch 13/100\n",
            "480/480 [==============================] - 2s 5ms/step - loss: 0.4099 - accuracy: 0.8591 - val_loss: 0.3577 - val_accuracy: 0.8752\n",
            "Epoch 14/100\n",
            "480/480 [==============================] - 2s 5ms/step - loss: 0.4045 - accuracy: 0.8613 - val_loss: 0.3507 - val_accuracy: 0.8758\n",
            "Epoch 15/100\n",
            "480/480 [==============================] - 2s 4ms/step - loss: 0.3982 - accuracy: 0.8632 - val_loss: 0.3523 - val_accuracy: 0.8762\n",
            "Epoch 16/100\n",
            "480/480 [==============================] - 2s 5ms/step - loss: 0.3870 - accuracy: 0.8665 - val_loss: 0.3445 - val_accuracy: 0.8781\n",
            "Epoch 17/100\n",
            "480/480 [==============================] - 2s 4ms/step - loss: 0.3908 - accuracy: 0.8652 - val_loss: 0.3484 - val_accuracy: 0.8780\n",
            "Epoch 18/100\n",
            "480/480 [==============================] - 2s 4ms/step - loss: 0.3826 - accuracy: 0.8693 - val_loss: 0.3369 - val_accuracy: 0.8797\n",
            "Epoch 19/100\n",
            "480/480 [==============================] - 2s 5ms/step - loss: 0.3755 - accuracy: 0.8698 - val_loss: 0.3467 - val_accuracy: 0.8801\n",
            "Epoch 20/100\n",
            "480/480 [==============================] - 2s 5ms/step - loss: 0.3775 - accuracy: 0.8701 - val_loss: 0.3481 - val_accuracy: 0.8780\n",
            "Epoch 21/100\n",
            "480/480 [==============================] - 2s 4ms/step - loss: 0.3753 - accuracy: 0.8720 - val_loss: 0.3469 - val_accuracy: 0.8792\n",
            "Epoch 22/100\n",
            "480/480 [==============================] - 2s 4ms/step - loss: 0.3723 - accuracy: 0.8702 - val_loss: 0.3366 - val_accuracy: 0.8809\n",
            "Epoch 23/100\n",
            "480/480 [==============================] - 2s 5ms/step - loss: 0.3690 - accuracy: 0.8727 - val_loss: 0.3335 - val_accuracy: 0.8793\n",
            "Epoch 24/100\n",
            "480/480 [==============================] - 2s 4ms/step - loss: 0.3635 - accuracy: 0.8744 - val_loss: 0.3344 - val_accuracy: 0.8834\n",
            "Epoch 25/100\n",
            "480/480 [==============================] - 2s 4ms/step - loss: 0.3603 - accuracy: 0.8745 - val_loss: 0.3306 - val_accuracy: 0.8833\n",
            "Epoch 26/100\n",
            "480/480 [==============================] - 2s 4ms/step - loss: 0.3542 - accuracy: 0.8769 - val_loss: 0.3334 - val_accuracy: 0.8827\n",
            "Epoch 27/100\n",
            "480/480 [==============================] - 2s 4ms/step - loss: 0.3510 - accuracy: 0.8771 - val_loss: 0.3345 - val_accuracy: 0.8824\n",
            "Epoch 28/100\n",
            "480/480 [==============================] - 2s 4ms/step - loss: 0.3558 - accuracy: 0.8758 - val_loss: 0.3396 - val_accuracy: 0.8814\n",
            "Epoch 29/100\n",
            "480/480 [==============================] - 2s 5ms/step - loss: 0.3500 - accuracy: 0.8778 - val_loss: 0.3325 - val_accuracy: 0.8842\n",
            "Epoch 30/100\n",
            "480/480 [==============================] - 2s 4ms/step - loss: 0.3503 - accuracy: 0.8775 - val_loss: 0.3351 - val_accuracy: 0.8836\n",
            "Epoch 31/100\n",
            "480/480 [==============================] - 2s 4ms/step - loss: 0.3488 - accuracy: 0.8791 - val_loss: 0.3268 - val_accuracy: 0.8866\n",
            "Epoch 32/100\n",
            "480/480 [==============================] - 2s 4ms/step - loss: 0.3445 - accuracy: 0.8795 - val_loss: 0.3281 - val_accuracy: 0.8851\n",
            "Epoch 33/100\n",
            "480/480 [==============================] - 2s 5ms/step - loss: 0.3412 - accuracy: 0.8815 - val_loss: 0.3260 - val_accuracy: 0.8851\n",
            "Epoch 34/100\n",
            "480/480 [==============================] - 2s 5ms/step - loss: 0.3390 - accuracy: 0.8813 - val_loss: 0.3291 - val_accuracy: 0.8838\n",
            "Epoch 35/100\n",
            "480/480 [==============================] - 2s 5ms/step - loss: 0.3404 - accuracy: 0.8817 - val_loss: 0.3326 - val_accuracy: 0.8848\n",
            "Epoch 36/100\n",
            "480/480 [==============================] - 2s 5ms/step - loss: 0.3379 - accuracy: 0.8842 - val_loss: 0.3317 - val_accuracy: 0.8852\n",
            "Epoch 37/100\n",
            "480/480 [==============================] - 2s 5ms/step - loss: 0.3336 - accuracy: 0.8847 - val_loss: 0.3235 - val_accuracy: 0.8874\n",
            "Epoch 38/100\n",
            "480/480 [==============================] - 2s 5ms/step - loss: 0.3356 - accuracy: 0.8841 - val_loss: 0.3267 - val_accuracy: 0.8868\n",
            "Epoch 39/100\n",
            "480/480 [==============================] - 2s 5ms/step - loss: 0.3282 - accuracy: 0.8863 - val_loss: 0.3248 - val_accuracy: 0.8879\n",
            "Epoch 40/100\n",
            "480/480 [==============================] - 2s 5ms/step - loss: 0.3262 - accuracy: 0.8854 - val_loss: 0.3328 - val_accuracy: 0.8832\n",
            "Epoch 41/100\n",
            "480/480 [==============================] - 2s 5ms/step - loss: 0.3261 - accuracy: 0.8852 - val_loss: 0.3275 - val_accuracy: 0.8853\n",
            "Epoch 42/100\n",
            "480/480 [==============================] - 2s 4ms/step - loss: 0.3235 - accuracy: 0.8857 - val_loss: 0.3331 - val_accuracy: 0.8871\n",
            "Epoch 43/100\n",
            "480/480 [==============================] - 2s 5ms/step - loss: 0.3225 - accuracy: 0.8885 - val_loss: 0.3303 - val_accuracy: 0.8851\n",
            "Epoch 44/100\n",
            "480/480 [==============================] - 2s 5ms/step - loss: 0.3230 - accuracy: 0.8877 - val_loss: 0.3264 - val_accuracy: 0.8853\n",
            "Epoch 45/100\n",
            "480/480 [==============================] - 2s 5ms/step - loss: 0.3243 - accuracy: 0.8860 - val_loss: 0.3226 - val_accuracy: 0.8872\n",
            "Epoch 46/100\n",
            "480/480 [==============================] - 2s 4ms/step - loss: 0.3229 - accuracy: 0.8884 - val_loss: 0.3262 - val_accuracy: 0.8855\n",
            "Epoch 47/100\n",
            "480/480 [==============================] - 2s 4ms/step - loss: 0.3183 - accuracy: 0.8902 - val_loss: 0.3306 - val_accuracy: 0.8851\n",
            "Epoch 48/100\n",
            "480/480 [==============================] - 2s 5ms/step - loss: 0.3163 - accuracy: 0.8902 - val_loss: 0.3224 - val_accuracy: 0.8882\n",
            "Epoch 49/100\n",
            "480/480 [==============================] - 2s 5ms/step - loss: 0.3140 - accuracy: 0.8895 - val_loss: 0.3257 - val_accuracy: 0.8866\n",
            "Epoch 50/100\n",
            "480/480 [==============================] - 2s 5ms/step - loss: 0.3156 - accuracy: 0.8909 - val_loss: 0.3215 - val_accuracy: 0.8878\n",
            "Epoch 51/100\n",
            "480/480 [==============================] - 2s 4ms/step - loss: 0.3112 - accuracy: 0.8922 - val_loss: 0.3306 - val_accuracy: 0.8864\n",
            "Epoch 52/100\n",
            "480/480 [==============================] - 2s 5ms/step - loss: 0.3121 - accuracy: 0.8911 - val_loss: 0.3224 - val_accuracy: 0.8882\n",
            "Epoch 53/100\n",
            "480/480 [==============================] - 2s 5ms/step - loss: 0.3125 - accuracy: 0.8905 - val_loss: 0.3273 - val_accuracy: 0.8862\n",
            "Epoch 54/100\n",
            "480/480 [==============================] - 2s 5ms/step - loss: 0.3085 - accuracy: 0.8916 - val_loss: 0.3222 - val_accuracy: 0.8885\n",
            "Epoch 55/100\n",
            "480/480 [==============================] - 2s 4ms/step - loss: 0.3087 - accuracy: 0.8925 - val_loss: 0.3237 - val_accuracy: 0.8867\n",
            "Epoch 56/100\n",
            "480/480 [==============================] - 2s 4ms/step - loss: 0.3075 - accuracy: 0.8915 - val_loss: 0.3294 - val_accuracy: 0.8859\n",
            "Epoch 57/100\n",
            "480/480 [==============================] - 2s 5ms/step - loss: 0.3043 - accuracy: 0.8947 - val_loss: 0.3391 - val_accuracy: 0.8827\n",
            "Epoch 58/100\n",
            "480/480 [==============================] - 2s 5ms/step - loss: 0.2991 - accuracy: 0.8955 - val_loss: 0.3198 - val_accuracy: 0.8888\n",
            "Epoch 59/100\n",
            "480/480 [==============================] - 2s 5ms/step - loss: 0.3060 - accuracy: 0.8937 - val_loss: 0.3199 - val_accuracy: 0.8892\n",
            "Epoch 60/100\n",
            "480/480 [==============================] - 2s 5ms/step - loss: 0.3042 - accuracy: 0.8939 - val_loss: 0.3229 - val_accuracy: 0.8888\n",
            "Epoch 61/100\n",
            "480/480 [==============================] - 2s 5ms/step - loss: 0.2953 - accuracy: 0.8972 - val_loss: 0.3204 - val_accuracy: 0.8903\n",
            "Epoch 62/100\n",
            "480/480 [==============================] - 2s 5ms/step - loss: 0.3008 - accuracy: 0.8943 - val_loss: 0.3199 - val_accuracy: 0.8892\n",
            "Epoch 63/100\n",
            "480/480 [==============================] - 2s 5ms/step - loss: 0.2964 - accuracy: 0.8949 - val_loss: 0.3193 - val_accuracy: 0.8901\n",
            "Epoch 64/100\n",
            "480/480 [==============================] - 2s 5ms/step - loss: 0.2963 - accuracy: 0.8972 - val_loss: 0.3166 - val_accuracy: 0.8887\n",
            "Epoch 65/100\n",
            "480/480 [==============================] - 2s 5ms/step - loss: 0.3013 - accuracy: 0.8957 - val_loss: 0.3163 - val_accuracy: 0.8890\n",
            "Epoch 66/100\n",
            "480/480 [==============================] - 2s 5ms/step - loss: 0.2975 - accuracy: 0.8962 - val_loss: 0.3190 - val_accuracy: 0.8892\n",
            "Epoch 67/100\n",
            "480/480 [==============================] - 2s 5ms/step - loss: 0.2933 - accuracy: 0.8976 - val_loss: 0.3220 - val_accuracy: 0.8900\n",
            "Epoch 68/100\n",
            "480/480 [==============================] - 2s 5ms/step - loss: 0.2879 - accuracy: 0.8990 - val_loss: 0.3257 - val_accuracy: 0.8878\n",
            "Epoch 69/100\n",
            "480/480 [==============================] - 2s 5ms/step - loss: 0.2920 - accuracy: 0.8978 - val_loss: 0.3196 - val_accuracy: 0.8887\n",
            "Epoch 70/100\n",
            "480/480 [==============================] - 2s 5ms/step - loss: 0.2870 - accuracy: 0.8996 - val_loss: 0.3202 - val_accuracy: 0.8869\n",
            "Epoch 71/100\n",
            "480/480 [==============================] - 2s 5ms/step - loss: 0.2910 - accuracy: 0.8988 - val_loss: 0.3194 - val_accuracy: 0.8896\n",
            "Epoch 72/100\n",
            "480/480 [==============================] - 2s 5ms/step - loss: 0.2887 - accuracy: 0.8996 - val_loss: 0.3281 - val_accuracy: 0.8878\n",
            "Epoch 73/100\n",
            "480/480 [==============================] - 2s 5ms/step - loss: 0.2849 - accuracy: 0.8997 - val_loss: 0.3205 - val_accuracy: 0.8881\n",
            "Epoch 74/100\n",
            "480/480 [==============================] - 2s 5ms/step - loss: 0.2898 - accuracy: 0.8983 - val_loss: 0.3187 - val_accuracy: 0.8897\n",
            "Epoch 75/100\n",
            "480/480 [==============================] - 2s 5ms/step - loss: 0.2873 - accuracy: 0.9002 - val_loss: 0.3180 - val_accuracy: 0.8893\n",
            "Epoch 76/100\n",
            "480/480 [==============================] - 2s 5ms/step - loss: 0.2842 - accuracy: 0.9002 - val_loss: 0.3187 - val_accuracy: 0.8891\n",
            "Epoch 77/100\n",
            "480/480 [==============================] - 2s 5ms/step - loss: 0.2868 - accuracy: 0.9000 - val_loss: 0.3146 - val_accuracy: 0.8917\n",
            "Epoch 78/100\n",
            "480/480 [==============================] - 2s 5ms/step - loss: 0.2901 - accuracy: 0.8990 - val_loss: 0.3176 - val_accuracy: 0.8891\n",
            "Epoch 79/100\n",
            "480/480 [==============================] - 2s 5ms/step - loss: 0.2837 - accuracy: 0.8997 - val_loss: 0.3173 - val_accuracy: 0.8931\n",
            "Epoch 80/100\n",
            "480/480 [==============================] - 2s 5ms/step - loss: 0.2793 - accuracy: 0.9029 - val_loss: 0.3220 - val_accuracy: 0.8888\n",
            "Epoch 81/100\n",
            "480/480 [==============================] - 2s 5ms/step - loss: 0.2801 - accuracy: 0.9017 - val_loss: 0.3176 - val_accuracy: 0.8893\n",
            "Epoch 82/100\n",
            "480/480 [==============================] - 2s 5ms/step - loss: 0.2785 - accuracy: 0.9031 - val_loss: 0.3258 - val_accuracy: 0.8886\n",
            "Epoch 83/100\n",
            "480/480 [==============================] - 2s 5ms/step - loss: 0.2807 - accuracy: 0.9026 - val_loss: 0.3144 - val_accuracy: 0.8917\n",
            "Epoch 84/100\n",
            "480/480 [==============================] - 2s 5ms/step - loss: 0.2772 - accuracy: 0.9031 - val_loss: 0.3128 - val_accuracy: 0.8922\n",
            "Epoch 85/100\n",
            "480/480 [==============================] - 2s 5ms/step - loss: 0.2763 - accuracy: 0.9045 - val_loss: 0.3140 - val_accuracy: 0.8932\n",
            "Epoch 86/100\n",
            "480/480 [==============================] - 2s 5ms/step - loss: 0.2742 - accuracy: 0.9039 - val_loss: 0.3201 - val_accuracy: 0.8898\n",
            "Epoch 87/100\n",
            "480/480 [==============================] - 2s 5ms/step - loss: 0.2803 - accuracy: 0.9016 - val_loss: 0.3133 - val_accuracy: 0.8910\n",
            "Epoch 88/100\n",
            "480/480 [==============================] - 2s 5ms/step - loss: 0.2707 - accuracy: 0.9050 - val_loss: 0.3227 - val_accuracy: 0.8907\n",
            "Epoch 89/100\n",
            "480/480 [==============================] - 2s 5ms/step - loss: 0.2759 - accuracy: 0.9040 - val_loss: 0.3160 - val_accuracy: 0.8919\n",
            "Epoch 90/100\n",
            "480/480 [==============================] - 2s 5ms/step - loss: 0.2784 - accuracy: 0.9033 - val_loss: 0.3204 - val_accuracy: 0.8930\n",
            "Epoch 91/100\n",
            "480/480 [==============================] - 2s 5ms/step - loss: 0.2732 - accuracy: 0.9045 - val_loss: 0.3183 - val_accuracy: 0.8913\n",
            "Epoch 92/100\n",
            "480/480 [==============================] - 2s 4ms/step - loss: 0.2715 - accuracy: 0.9050 - val_loss: 0.3219 - val_accuracy: 0.8932\n",
            "Epoch 93/100\n",
            "480/480 [==============================] - 2s 5ms/step - loss: 0.2717 - accuracy: 0.9051 - val_loss: 0.3144 - val_accuracy: 0.8940\n",
            "Epoch 94/100\n",
            "480/480 [==============================] - 2s 5ms/step - loss: 0.2715 - accuracy: 0.9046 - val_loss: 0.3137 - val_accuracy: 0.8907\n",
            "Epoch 95/100\n",
            "480/480 [==============================] - 2s 5ms/step - loss: 0.2684 - accuracy: 0.9064 - val_loss: 0.3102 - val_accuracy: 0.8939\n",
            "Epoch 96/100\n",
            "480/480 [==============================] - 2s 5ms/step - loss: 0.2705 - accuracy: 0.9051 - val_loss: 0.3166 - val_accuracy: 0.8912\n",
            "Epoch 97/100\n",
            "480/480 [==============================] - 2s 5ms/step - loss: 0.2701 - accuracy: 0.9054 - val_loss: 0.3138 - val_accuracy: 0.8948\n",
            "Epoch 98/100\n",
            "480/480 [==============================] - 2s 5ms/step - loss: 0.2660 - accuracy: 0.9067 - val_loss: 0.3189 - val_accuracy: 0.8914\n",
            "Epoch 99/100\n",
            "480/480 [==============================] - 2s 5ms/step - loss: 0.2698 - accuracy: 0.9050 - val_loss: 0.3138 - val_accuracy: 0.8922\n",
            "Epoch 100/100\n",
            "480/480 [==============================] - 2s 5ms/step - loss: 0.2687 - accuracy: 0.9054 - val_loss: 0.3145 - val_accuracy: 0.8912\n",
            "Time for learning:   276.2830s\n"
          ]
        }
      ],
      "source": [
        "batch_size=100\n",
        "num_epochs = 100\n",
        "\n",
        "\n",
        "history = Fmnist_model.fit(x=train_x, y=train_y, epochs=num_epochs, batch_size=batch_size, \\\n",
        "                            validation_split=validation_portion, shuffle=True, verbose=1)\n",
        "\n",
        "end_time = time.time()\n",
        "print(\"Time for learning: {:10.4f}s\".format(end_time - start_time))"
      ]
    },
    {
      "cell_type": "markdown",
      "id": "968b0c7b",
      "metadata": {
        "id": "968b0c7b"
      },
      "source": [
        "### Graficamos la funciones de costo vs epocas"
      ]
    },
    {
      "cell_type": "code",
      "execution_count": null,
      "id": "1d66a20a",
      "metadata": {
        "colab": {
          "base_uri": "https://localhost:8080/",
          "height": 295
        },
        "id": "1d66a20a",
        "outputId": "f5b2bb80-1640-4e90-b2ba-f46b1e671767"
      },
      "outputs": [
        {
          "output_type": "display_data",
          "data": {
            "image/png": "[encoded data removed]",
            "text/plain": [
              "<Figure size 432x288 with 1 Axes>"
            ]
          },
          "metadata": {
            "needs_background": "light"
          }
        }
      ],
      "source": [
        "plt.plot(history.history['loss'])\n",
        "plt.plot(history.history['val_loss'])\n",
        "plt.title('Lr = 0.01, FF_Dropout: Inp = 0.30, hl_1 = 0.30, hl_2 = 0.30')\n",
        "plt.ylabel('Cost')\n",
        "plt.xlabel('Epoch')\n",
        "plt.legend(['Train', 'Validation'], loc='upper right')\n",
        "plt.show()"
      ]
    },
    {
      "cell_type": "markdown",
      "id": "3855a367",
      "metadata": {
        "id": "3855a367"
      },
      "source": [
        "### Graficamos la presición del modelo respecto a las epocas"
      ]
    },
    {
      "cell_type": "code",
      "execution_count": null,
      "id": "efa6aa86",
      "metadata": {
        "colab": {
          "base_uri": "https://localhost:8080/",
          "height": 302
        },
        "id": "efa6aa86",
        "outputId": "14720068-5999-42f7-d184-63213a18c216"
      },
      "outputs": [
        {
          "output_type": "display_data",
          "data": {
            "image/png": "[encoded data removed]",
            "text/plain": [
              "<Figure size 432x288 with 1 Axes>"
            ]
          },
          "metadata": {
            "needs_background": "light"
          }
        }
      ],
      "source": [
        "plt.plot(history.history['accuracy'])\n",
        "plt.plot(history.history['val_accuracy'])\n",
        "plt.title('Model accuracy', size=16)\n",
        "plt.ylabel('Accuracy', size=16)\n",
        "plt.xlabel('Epoch', size=16)\n",
        "plt.legend(['Train', 'Validation'], loc='lower right', prop={'size': 16})\n",
        "plt.show()"
      ]
    },
    {
      "cell_type": "code",
      "execution_count": null,
      "id": "38dab89d",
      "metadata": {
        "colab": {
          "base_uri": "https://localhost:8080/"
        },
        "id": "38dab89d",
        "outputId": "2d4c15cf-1b2e-47cb-c753-1f50085ff731"
      },
      "outputs": [
        {
          "output_type": "stream",
          "name": "stdout",
          "text": [
            "313/313 [==============================] - 1s 3ms/step - loss: 0.3339 - accuracy: 0.8889\n",
            "Loss = 0.3338686525821686\n",
            "Test Accuracy = 0.8888999819755554\n"
          ]
        }
      ],
      "source": [
        "evaluations = Fmnist_model.evaluate(x =test_x, y=test_y)\n",
        "\n",
        "print (\"Loss = \" + str(evaluations[0]))\n",
        "print (\"Test Accuracy = \" + str(evaluations[1]))\n"
      ]
    },
    {
      "cell_type": "markdown",
      "id": "dc400073",
      "metadata": {
        "id": "dc400073"
      },
      "source": [
        "### Predicción de imagen"
      ]
    },
    {
      "cell_type": "code",
      "execution_count": null,
      "id": "eabf6dc5",
      "metadata": {
        "id": "eabf6dc5",
        "colab": {
          "base_uri": "https://localhost:8080/"
        },
        "outputId": "35f5c560-2edb-4cd9-d1c6-80c2e570cd87"
      },
      "outputs": [
        {
          "output_type": "stream",
          "name": "stdout",
          "text": [
            "For the sample number 2456 the prediction is the value: Ankle boot\n"
          ]
        }
      ],
      "source": [
        "predictions = Fmnist_model.predict(test_x)\n",
        "sample1 = 2456\n",
        "# Predicting the digit associated to the sample \n",
        "# np.argmax returns the index of the maximum value\n",
        "\n",
        "prediction = np.argmax(predictions[sample1])\n",
        "\n",
        "print('For the sample number', sample1, 'the prediction is the value:', dic[prediction])"
      ]
    },
    {
      "cell_type": "code",
      "execution_count": null,
      "id": "9c71cd22",
      "metadata": {
        "id": "9c71cd22",
        "colab": {
          "base_uri": "https://localhost:8080/",
          "height": 282
        },
        "outputId": "e47ceb44-46aa-4fcb-eab1-09b0ae9954dc"
      },
      "outputs": [
        {
          "output_type": "stream",
          "name": "stdout",
          "text": [
            "For the sample number 2456 the associated value is: Ankle boot\n"
          ]
        },
        {
          "output_type": "display_data",
          "data": {
            "image/png": "[encoded data removed]",
            "text/plain": [
              "<Figure size 432x288 with 1 Axes>"
            ]
          },
          "metadata": {
            "needs_background": "light"
          }
        }
      ],
      "source": [
        "plt.imshow(test_samples[0][sample1].reshape((28, 28)), cmap='gray')\n",
        "\n",
        "print ('For the sample number', sample1, 'the associated value is:', dic[int(np.argmax(test_y[sample1]))])"
      ]
    },
    {
      "cell_type": "code",
      "source": [
        ""
      ],
      "metadata": {
        "id": "G8QTXQlG8j0Q"
      },
      "id": "G8QTXQlG8j0Q",
      "execution_count": null,
      "outputs": []
    },
    {
      "cell_type": "code",
      "source": [
        ""
      ],
      "metadata": {
        "id": "vi_D4GNeSR81"
      },
      "id": "vi_D4GNeSR81",
      "execution_count": null,
      "outputs": []
    },
    {
      "cell_type": "code",
      "source": [
        ""
      ],
      "metadata": {
        "id": "CXThWXCGSlEd"
      },
      "id": "CXThWXCGSlEd",
      "execution_count": null,
      "outputs": []
    }
  ],
  "metadata": {
    "kernelspec": {
      "display_name": "Python 3 (ipykernel)",
      "language": "python",
      "name": "python3"
    },
    "language_info": {
      "codemirror_mode": {
        "name": "ipython",
        "version": 3
      },
      "file_extension": ".py",
      "mimetype": "text/x-python",
      "name": "python",
      "nbconvert_exporter": "python",
      "pygments_lexer": "ipython3",
      "version": "3.8.11"
    },
    "colab": {
      "name": "Fashion_MNIST_(1).ipynb",
      "provenance": []
    },
    "accelerator": "GPU"
  },
  "nbformat": 4,
  "nbformat_minor": 5
}